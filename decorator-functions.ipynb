{
 "cells": [
  {
   "cell_type": "code",
   "execution_count": 1,
   "metadata": {},
   "outputs": [
    {
     "name": "stdout",
     "output_type": "stream",
     "text": [
      "Hello, this is before function execution\n",
      "This is inside the function !!\n",
      "This is after function execution\n"
     ]
    }
   ],
   "source": [
    "# defining a decorator\n",
    "def hello_decorator(func):\n",
    "\n",
    "\t# inner1 is a Wrapper function in \n",
    "\t# which the argument is called\n",
    "\t\n",
    "\t# inner function can access the outer local\n",
    "\t# functions like in this case \"func\"\n",
    "\tdef inner1():\n",
    "\t\tprint(\"Hello, this is before function execution\")\n",
    "\n",
    "\t\t# calling the actual function now\n",
    "\t\t# inside the wrapper function.\n",
    "\t\tfunc()\n",
    "\n",
    "\t\tprint(\"This is after function execution\")\n",
    "\t\t\n",
    "\treturn inner1\n",
    "\n",
    "\n",
    "# defining a function, to be called inside wrapper\n",
    "def function_to_be_used():\n",
    "\tprint(\"This is inside the function !!\")\n",
    "\n",
    "\n",
    "# passing 'function_to_be_used' inside the\n",
    "# decorator to control its behaviour\n",
    "function_to_be_used = hello_decorator(function_to_be_used)\n",
    "\n",
    "\n",
    "# calling the function\n",
    "function_to_be_used()\n"
   ]
  },
  {
   "cell_type": "code",
   "execution_count": 2,
   "metadata": {},
   "outputs": [
    {
     "name": "stdout",
     "output_type": "stream",
     "text": [
      "Something is happening before the function is called.\n",
      "Hello!\n",
      "Something is happening after the function is called.\n"
     ]
    }
   ],
   "source": [
    "def my_decorator(func):\n",
    "    def wrapper():\n",
    "        print(\"Something is happening before the function is called.\")\n",
    "        func()\n",
    "        print(\"Something is happening after the function is called.\")\n",
    "    return wrapper\n",
    "\n",
    "@my_decorator\n",
    "def say_hello():\n",
    "    print(\"Hello!\")\n",
    "\n",
    "say_hello()\n"
   ]
  },
  {
   "cell_type": "code",
   "execution_count": 4,
   "metadata": {},
   "outputs": [
    {
     "name": "stdout",
     "output_type": "stream",
     "text": [
      "Something is happening before the function is called.\n",
      "Babar plays for Peshawar Zalmi.\n",
      "Rizwan plays for Multan Sultans.\n",
      "Shaheen plays for Lahore Qalandars.\n",
      "Shadab plays for Islamabad United.\n",
      "Haris plays for Peshawar Zalmi.\n",
      "Nawaz plays for Karachi Kings.\n",
      "Naseem plays for Islamabad United.\n",
      "Iftikhar plays for Multan Sultans.\n",
      "Fakhar plays for Lahore Qalandars.\n",
      "Rauf plays for Lahore Qalandars.\n",
      "Wasim plays for Quetta Gladiators.\n",
      "Ahmad wasn't picked in the draft.\n",
      "Something is happening after the function is called.\n"
     ]
    }
   ],
   "source": [
    "@my_decorator\n",
    "def Team():\n",
    "    Pakistan = ['Babar', 'Rizwan', 'Shaheen', 'Shadab', 'Haris', 'Nawaz', 'Naseem', 'Iftikhar', 'Fakhar', 'Rauf', 'Wasim', 'Ahmad' ]\n",
    "    Zalmi = ['Babar', 'Haris']\n",
    "    Qalandar = ['Shaheen', 'Fakhar', 'Rauf']\n",
    "    United = ['Shadab', 'Naseem']\n",
    "    Sultan = ['Rizwan', 'Iftikhar']\n",
    "    Gladiator = ['Wasim']\n",
    "    King = ['Nawaz']\n",
    "    \n",
    "    for i in Pakistan:\n",
    "        if i in Zalmi:\n",
    "            print(i , \"plays for Peshawar Zalmi.\")\n",
    "        elif i in Qalandar:\n",
    "            print(i , \"plays for Lahore Qalandars.\")\n",
    "        elif i in United:\n",
    "            print(i , \"plays for Islamabad United.\")\n",
    "        elif i in King:\n",
    "            print(i , \"plays for Karachi Kings.\")\n",
    "        elif i in Gladiator:\n",
    "            print(i , \"plays for Quetta Gladiators.\")\n",
    "        elif i in Sultan:\n",
    "            print(i , \"plays for Multan Sultans.\")\n",
    "        else:\n",
    "            print(i , \"wasn't picked in the draft.\")\n",
    "            \n",
    "Team()"
   ]
  },
  {
   "cell_type": "code",
   "execution_count": null,
   "metadata": {},
   "outputs": [],
   "source": []
  }
 ],
 "metadata": {
  "kernelspec": {
   "display_name": "Python 3",
   "language": "python",
   "name": "python3"
  },
  "language_info": {
   "codemirror_mode": {
    "name": "ipython",
    "version": 3
   },
   "file_extension": ".py",
   "mimetype": "text/x-python",
   "name": "python",
   "nbconvert_exporter": "python",
   "pygments_lexer": "ipython3",
   "version": "3.11.2"
  }
 },
 "nbformat": 4,
 "nbformat_minor": 2
}
